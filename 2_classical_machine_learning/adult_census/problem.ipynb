{
 "cells": [
  {
   "cell_type": "markdown",
   "metadata": {},
   "source": [
    "# Classical Machine Learning\n",
    "\n",
    "In case you do not dispose from a local environment please launch this repository from \n",
    "\n",
    "[![Binder](https://mybinder.org/badge_logo.svg)](https://mybinder.org/v2/gh/Talan-TechForData/datascience-solutions/HEAD?labpath=problem.ipynb) \n",
    "[![Colab](https://colab.research.google.com/assets/colab-badge.svg)](https://colab.research.google.com/github/Talan-TechForData/datascience-solutions/blob/main/1_exploratory_data_analysis/taxinyc_analysis/problem.ipynb)"
   ]
  },
  {
   "cell_type": "markdown",
   "metadata": {},
   "source": [
    "## Situational description \n",
    "\n",
    "In this case we consider a classical dataset describing blood transfusions."
   ]
  },
  {
   "cell_type": "code",
   "execution_count": null,
   "metadata": {},
   "outputs": [],
   "source": [
    "%pip install pandas matplotlib scikit-learn tensorflow seaborn"
   ]
  },
  {
   "cell_type": "markdown",
   "metadata": {},
   "source": [
    "Here's a description of the features in this dataset:\n",
    "\n",
    "1. **age**: The age of the individual. This is a numerical feature indicating how old the person is.\n",
    "\n",
    "2. **education-num**: The number of years of education the individual has completed. This is a numerical feature representing educational attainment.\n",
    "\n",
    "3. **capital-gain**: The capital gains of the individual, which is a numerical feature indicating income from investment profits.\n",
    "\n",
    "4. **capital-loss**: The capital losses of the individual, which is a numerical feature indicating losses from investments.\n",
    "\n",
    "5. **hours-per-week**: The number of hours the individual works per week. This is a numerical feature representing workload.\n",
    "\n",
    "6. **class**: The target variable indicating whether the individual's income exceeds $50K per year. This is a categorical feature with two possible values:\n",
    "   - `<=50K`: The individual earns $50,000 or less per year.\n",
    "   - `>50K`: The individual earns more than $50,000 per year."
   ]
  },
  {
   "cell_type": "code",
   "execution_count": null,
   "metadata": {},
   "outputs": [],
   "source": [
    "import pandas as pd\n",
    "\n",
    "adult_census = pd.read_csv(\n",
    "    'https://raw.githubusercontent.com/INRIA/scikit-learn-mooc/main/datasets/adult-census-numeric-all.csv',\n",
    ")\n",
    "adult_census.head()"
   ]
  },
  {
   "cell_type": "markdown",
   "metadata": {},
   "source": [
    "1. In this case what kind of problems can be solved with this dataset via ML?"
   ]
  },
  {
   "cell_type": "code",
   "execution_count": null,
   "metadata": {},
   "outputs": [],
   "source": []
  },
  {
   "cell_type": "markdown",
   "metadata": {},
   "source": [
    "2. Consider the following piece of code. Explain what the piece of code does and the conclusions this might bring"
   ]
  },
  {
   "cell_type": "code",
   "execution_count": null,
   "metadata": {},
   "outputs": [],
   "source": [
    "import seaborn as sns\n",
    "\n",
    "sns.pairplot(adult_census.sample(4000), hue='class')"
   ]
  },
  {
   "cell_type": "markdown",
   "metadata": {},
   "source": [
    "The exploratory analysis with the pairplot indicates that:\n",
    "\n",
    " - Income has two big modalities of income \n",
    " - Hours per week have a wider spread in the case of hours-per-week\n",
    " - The data does not show explicit linear relationships so it regular linear regressors might under perform.\n",
    " - Binary classifiers in the form of Trees/ Logistic Regressors could provide accurate class prediction"
   ]
  },
  {
   "cell_type": "markdown",
   "metadata": {},
   "source": [
    "3. What does the following code does?"
   ]
  },
  {
   "cell_type": "code",
   "execution_count": null,
   "metadata": {},
   "outputs": [],
   "source": [
    "from sklearn.model_selection import ShuffleSplit\n",
    "\n",
    "cv = ShuffleSplit(n_splits=10, test_size=0.5, random_state=0)\n",
    "\n",
    "from sklearn.pipeline import make_pipeline\n",
    "from sklearn.preprocessing import StandardScaler\n",
    "from sklearn.linear_model import LogisticRegression\n",
    "\n",
    "classifier = make_pipeline(StandardScaler(), LogisticRegression())\n",
    "\n",
    "data, target = adult_census.drop(columns=\"class\"), adult_census[\"class\"]\n",
    "\n",
    "from sklearn.model_selection import cross_validate\n",
    "\n",
    "cv_results_logistic_regression = cross_validate(\n",
    "    classifier, data, target, cv=cv, n_jobs=2\n",
    ")\n",
    "\n",
    "test_score_logistic_regression = pd.Series(\n",
    "    cv_results_logistic_regression[\"test_score\"], name=\"Logistic Regression\"\n",
    ")\n",
    "test_score_logistic_regression\n"
   ]
  },
  {
   "cell_type": "markdown",
   "metadata": {},
   "source": [
    "4. What is the objective of the following lines with respect to the previous\n",
    "work?"
   ]
  },
  {
   "cell_type": "code",
   "execution_count": null,
   "metadata": {},
   "outputs": [],
   "source": [
    "from sklearn.dummy import DummyClassifier\n",
    "\n",
    "most_frequent_classifier = DummyClassifier(strategy=\"most_frequent\")\n",
    "cv_results_most_frequent = cross_validate(\n",
    "    most_frequent_classifier, data, target, cv=cv, n_jobs=2\n",
    ")\n",
    "test_score_most_frequent = pd.Series(\n",
    "    cv_results_most_frequent[\"test_score\"],\n",
    "    name=\"Most frequent class predictor\",\n",
    ")\n",
    "test_score_most_frequent"
   ]
  },
  {
   "cell_type": "markdown",
   "metadata": {},
   "source": [
    "5. By observing the results what can you conclude?"
   ]
  },
  {
   "cell_type": "code",
   "execution_count": null,
   "metadata": {},
   "outputs": [],
   "source": [
    "# solution\n",
    "all_test_scores = pd.concat(\n",
    "    [test_score_logistic_regression, test_score_most_frequent],\n",
    "    axis=\"columns\",\n",
    ")\n",
    "all_test_scores"
   ]
  },
  {
   "cell_type": "markdown",
   "metadata": {},
   "source": [
    "4. Let consider the following added benchmarks with respect to Dummy Classifiers that use other kind of strategies.\n",
    "\n",
    "- Stratified: The `predict_proba` method randomly samples one-hot vectors from a multinomial distribution parametrized by the empirical class prior probabilities. The predict method returns the class label which got probability one in the one-hot vector of predict_proba\n",
    "- Uniform: Generates predictions uniformly at random from the list of unique classes observed in `y`\n",
    "\n",
    "What could be more convenient to evaluate and why?"
   ]
  },
  {
   "cell_type": "code",
   "execution_count": null,
   "metadata": {},
   "outputs": [],
   "source": [
    "import numpy as np\n",
    "import matplotlib.pyplot as plt\n",
    "\n",
    "bins = np.linspace(start=0.5, stop=1.0, num=100)\n",
    "\n",
    "stratified_dummy = DummyClassifier(strategy=\"stratified\")\n",
    "cv_results_stratified = cross_validate(\n",
    "    stratified_dummy, data, target, cv=cv, n_jobs=2\n",
    ")\n",
    "test_score_dummy_stratified = pd.Series(\n",
    "    cv_results_stratified[\"test_score\"], name=\"Stratified class predictor\"\n",
    ")\n",
    "uniform_dummy = DummyClassifier(strategy=\"uniform\")\n",
    "cv_results_uniform = cross_validate(\n",
    "    uniform_dummy, data, target, cv=cv, n_jobs=2\n",
    ")\n",
    "test_score_dummy_uniform = pd.Series(\n",
    "    cv_results_uniform[\"test_score\"], name=\"Uniform class predictor\"\n",
    ")\n",
    "all_test_scores = pd.concat(\n",
    "    [\n",
    "        test_score_logistic_regression,\n",
    "        test_score_most_frequent,\n",
    "        test_score_dummy_stratified,\n",
    "        test_score_dummy_uniform,\n",
    "    ],\n",
    "    axis=\"columns\",\n",
    ")\n",
    "all_test_scores.plot.hist(bins=bins, edgecolor=\"black\")\n",
    "plt.legend(bbox_to_anchor=(1.05, 0.8), loc=\"upper left\")\n",
    "plt.xlabel(\"Accuracy (%)\")\n",
    "_ = plt.title(\"Distribution of the test scores\")"
   ]
  },
  {
   "cell_type": "markdown",
   "metadata": {},
   "source": [
    "# Fin"
   ]
  }
 ],
 "metadata": {
  "kernelspec": {
   "display_name": ".venv",
   "language": "python",
   "name": "python3"
  },
  "language_info": {
   "codemirror_mode": {
    "name": "ipython",
    "version": 3
   },
   "file_extension": ".py",
   "mimetype": "text/x-python",
   "name": "python",
   "nbconvert_exporter": "python",
   "pygments_lexer": "ipython3",
   "version": "3.12.7"
  }
 },
 "nbformat": 4,
 "nbformat_minor": 4
}
